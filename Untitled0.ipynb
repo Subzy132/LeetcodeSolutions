{
  "nbformat": 4,
  "nbformat_minor": 0,
  "metadata": {
    "colab": {
      "provenance": [],
      "authorship_tag": "ABX9TyMlWsv3TJDK6LHn7UDjhZS6",
      "include_colab_link": true
    },
    "kernelspec": {
      "name": "python3",
      "display_name": "Python 3"
    },
    "language_info": {
      "name": "python"
    }
  },
  "cells": [
    {
      "cell_type": "markdown",
      "metadata": {
        "id": "view-in-github",
        "colab_type": "text"
      },
      "source": [
        "<a href=\"https://colab.research.google.com/github/Subzy132/LeetcodeSolutions/blob/main/Untitled0.ipynb\" target=\"_parent\"><img src=\"https://colab.research.google.com/assets/colab-badge.svg\" alt=\"Open In Colab\"/></a>"
      ]
    },
    {
      "cell_type": "code",
      "execution_count": null,
      "metadata": {
        "id": "nk_5jkwOuI5W",
        "outputId": "c2da81e7-b0cf-4e0e-e5b4-eaf3831970ac",
        "colab": {
          "base_uri": "https://localhost:8080/"
        }
      },
      "outputs": [
        {
          "output_type": "stream",
          "name": "stdout",
          "text": [
            "Simple Calculator\n",
            "Operations:\n",
            "1. Addition (+)\n",
            "2. Subtraction (-)\n",
            "3. Multiplication (*)\n",
            "4. Division (/)\n",
            "Enter 'exit' to quit.\n"
          ]
        }
      ],
      "source": [
        "def add(x, y):\n",
        "    return x + y\n",
        "\n",
        "def subtract(x, y):\n",
        "    return x - y\n",
        "\n",
        "def multiply(x, y):\n",
        "    return x * y\n",
        "\n",
        "def divide(x, y):\n",
        "    if y != 0:\n",
        "        return x / y\n",
        "    else:\n",
        "        return \"Error: Cannot divide by zero.\"\n",
        "\n",
        "def calculator():\n",
        "    print(\"Simple Calculator\")\n",
        "    print(\"Operations:\")\n",
        "    print(\"1. Addition (+)\")\n",
        "    print(\"2. Subtraction (-)\")\n",
        "    print(\"3. Multiplication (*)\")\n",
        "    print(\"4. Division (/)\")\n",
        "    print(\"Enter 'exit' to quit.\")\n",
        "\n",
        "    while True:\n",
        "        operator = input(\"Enter operation (e.g., +, -, *, /): \")\n",
        "\n",
        "        if operator == 'exit':\n",
        "            print(\"Exiting calculator.\")\n",
        "            break\n",
        "\n",
        "        if operator not in ('+', '-', '*', '/'):\n",
        "            print(\"Invalid operator. Please try again.\")\n",
        "            continue\n",
        "\n",
        "        try:\n",
        "            num1 = float(input(\"Enter first number: \"))\n",
        "            num2 = float(input(\"Enter second number: \"))\n",
        "\n",
        "            if operator == '+':\n",
        "                result = add(num1, num2)\n",
        "            elif operator == '-':\n",
        "                result = subtract(num1, num2)\n",
        "            elif operator == '*':\n",
        "                result = multiply(num1, num2)\n",
        "            elif operator == '/':\n",
        "                result = divide(num1, num2)\n",
        "\n",
        "            print(\"Result:\", result)\n",
        "\n",
        "        except ValueError:\n",
        "            print(\"Invalid input. Please enter valid numbers.\")\n",
        "        except ZeroDivisionError:\n",
        "            print(\"Error: Cannot divide by zero.\")\n",
        "\n",
        "if __name__ == \"__main__\":\n",
        "    calculator()\n"
      ]
    },
    {
      "cell_type": "code",
      "source": [
        "\n",
        "# Function for nth Fibonacci number\n",
        "\n",
        "def Fibonacci(n):\n",
        "    if n<= 0:\n",
        "        print(\"Incorrect input\")\n",
        "    # First Fibonacci number is 0\n",
        "    elif n == 1:\n",
        "        return 0\n",
        "    # Second Fibonacci number is 1\n",
        "    elif n == 2:\n",
        "        return 1\n",
        "    else:\n",
        "        return Fibonacci(n-1)+Fibonacci(n-2)\n",
        "\n",
        "# Driver Program\n",
        "\n",
        "print(Fibonacci(10))"
      ],
      "metadata": {
        "id": "8VnR26-AZs-s",
        "outputId": "caab58bf-567b-4355-a965-8df33962f7df",
        "colab": {
          "base_uri": "https://localhost:8080/"
        }
      },
      "execution_count": null,
      "outputs": [
        {
          "output_type": "stream",
          "name": "stdout",
          "text": [
            "34\n"
          ]
        }
      ]
    }
  ]
}