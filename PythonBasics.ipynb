{
  "nbformat": 4,
  "nbformat_minor": 0,
  "metadata": {
    "colab": {
      "provenance": [],
      "authorship_tag": "ABX9TyOTcc0bhGzDQnDBVoOD+ifb"
    },
    "kernelspec": {
      "name": "python3",
      "display_name": "Python 3"
    },
    "language_info": {
      "name": "python"
    }
  },
  "cells": [
    {
      "cell_type": "code",
      "execution_count": 4,
      "metadata": {
        "colab": {
          "base_uri": "https://localhost:8080/",
          "height": 107
        },
        "id": "KEBTzRrf5TfM",
        "outputId": "c4bcd473-3871-4a3a-a018-3d533d501716"
      },
      "outputs": [
        {
          "output_type": "stream",
          "name": "stdout",
          "text": [
            "Hello world!\n",
            "Five is greater than two!\n",
            "5Hello World!\n",
            "Thank you!\n"
          ]
        },
        {
          "output_type": "execute_result",
          "data": {
            "text/plain": [
              "'\\nThis is a comment\\nwritten in\\nmore than just one line\\n\\n'"
            ],
            "application/vnd.google.colaboratory.intrinsic+json": {
              "type": "string"
            }
          },
          "metadata": {},
          "execution_count": 4
        }
      ],
      "source": [
        "print('Hello world!')\n",
        "\n",
        "# in Python Indentation is VERY important!\n",
        "\n",
        "if 5 > 2:\n",
        "  print('Five is greater than two!')\n",
        "\n",
        "# Python will give you an error if you don't add the indentation\n",
        "\n",
        "# e.g\n",
        "# if 5 > 2:\n",
        "# print('Five is greater than two!')\n",
        "\n",
        "# You have to use the same number of spaces in the same block of code, otherwise\n",
        "# Python will give you an error\n",
        "\n",
        "# e.g\n",
        "# if 5 > 2:\n",
        "#  print(\"Five is greater than two!\")\n",
        "#      print(\"Five is greater than two!\")\n",
        "\n",
        "\n",
        "x = 5\n",
        "y = \"Hello World!\"\n",
        "\n",
        "print(str(x) + y)\n",
        "\n",
        "# print(\"Hello, world!\") Comments can also be used to cancel out code to see how it will run\n",
        "print('Thank you!')\n",
        "\n",
        "\"\"\"\n",
        "This is a comment\n",
        "written in\n",
        "more than just one line\n",
        "\n",
        "\"\"\"\n",
        "\n",
        "\n",
        "\n"
      ]
    },
    {
      "cell_type": "code",
      "source": [
        "# Variables\n",
        "\n",
        "X = 23\n",
        "Y = \"Subhaan\"\n",
        "\n",
        "print(X)\n",
        "print(Y)\n",
        "\n",
        "# Variables do not need to be declared with any particular type\n",
        "# You can even change the type after they have been set\n",
        "# e.g.\n",
        "\n",
        "S = 24\n",
        "S = \"Subhaan 2\"\n",
        "print(S)\n",
        "\n",
        "# Casting\n",
        "# You can specify a data type of a variable by casting\n",
        "\n",
        "x = str(3)\n",
        "y = int(3)\n",
        "z = float(3)\n",
        "\n",
        "print(x)\n",
        "print(y)\n",
        "print(z)\n",
        "\n",
        "# You can get the data type of a variable by using the type() function\n",
        "\n",
        "x = 20\n",
        "y = \"Subhaan\"\n",
        "\n",
        "print(type(x))\n",
        "print(type(y))\n",
        "\n",
        "# Variable names are case-sensitive\n",
        "\n",
        "a = 4\n",
        "A = \"Sally\"\n",
        "\n",
        "# A will not overwrite a\n",
        "\n",
        "print(a)\n",
        "print(A)"
      ],
      "metadata": {
        "colab": {
          "base_uri": "https://localhost:8080/"
        },
        "id": "l9nH2C5GPT3h",
        "outputId": "48522093-2aba-4db6-d86a-f4da52d6929b"
      },
      "execution_count": 10,
      "outputs": [
        {
          "output_type": "stream",
          "name": "stdout",
          "text": [
            "23\n",
            "Subhaan\n",
            "Subhaan 2\n",
            "3\n",
            "3\n",
            "3.0\n",
            "<class 'int'>\n",
            "<class 'str'>\n",
            "4\n"
          ]
        }
      ]
    },
    {
      "cell_type": "code",
      "source": [
        "print(\"   /|\")\n",
        "print(\"  / |\")\n",
        "print(\" /  |\")\n",
        "print(\"/___|\")\n",
        "\n",
        "# order of instructions matter a lot\n",
        "# when creating a varibale and theres a space, use an underscore\n",
        "\n",
        "character_name = \"Subhaan\"\n",
        "character_age = \"35\"\n",
        "print(\"There once was a man named \" + character_name + \", \")\n",
        "print(\"he was \" + character_age + \" years old\")\n",
        "\n",
        "character_name = 'Jamie'\n",
        "# Boolean variable\n",
        "is_male = True\n",
        "\n",
        "print(\"He really liked the name \" + character_name + \", \")\n",
        "print(\"but didn't like the age \" + character_age + \".\")\n",
        "\n",
        "# Strings\n",
        "\n",
        "print(\"Subhaan \\n Acadamy\") # \\n means new line\n",
        "print(\"Subhaan \\\" Acadamy\") # \\\" to print out quotation mark\n",
        "phrase = \"Subhaan Acadamy\"\n",
        "print(phrase + \" is cool\")\n",
        "print(phrase.lower()) # Makes string lowercase\n",
        "print(phrase.upper()) # Makes string uppercase\n",
        "print(phrase.isupper()) # Check if string is uppercase\n",
        "print(phrase.upper().isupper()) # makes string uppercase and then checks if it is upper\n",
        "print(len(phrase)) # checks the length of the string\n",
        "print(phrase[3]) # prints first character of the string, starts from index 0\n",
        "print(phrase.index(\"u\")) # gives the index of the character thats stated\n",
        "print(phrase.index(\"bh\"))\n",
        "print(phrase.replace(\"haan\", \"z\")) # you can replace different parts of the string\n",
        "\n",
        "print(\"-----------------------\")\n",
        "# Dealing with numbers\n",
        "\n",
        "print(2)\n",
        "print(2 + 5)\n",
        "print(3 * 2 + 5)\n",
        "print(3 * (2 + 5)) # Brackets are used to sort out operations\n",
        "print(10 % 3) # modulus operation, gives back the remainder\n",
        "\n",
        "my_num = 5\n",
        "print(my_num)\n",
        "print(str(my_num) + \" is my favourite number\") # you need to change an int into a string to join with other strings\n",
        "\n",
        "\n"
      ],
      "metadata": {
        "colab": {
          "base_uri": "https://localhost:8080/"
        },
        "id": "x7AixtlRSue-",
        "outputId": "90802daf-5c4c-48b6-8874-1fd1c3e02ba9"
      },
      "execution_count": 32,
      "outputs": [
        {
          "output_type": "stream",
          "name": "stdout",
          "text": [
            "   /|\n",
            "  / |\n",
            " /  |\n",
            "/___|\n",
            "There once was a man named Subhaan, \n",
            "he was 35 years old\n",
            "He really liked the name Jamie, \n",
            "but didn't like the age 35.\n",
            "Subhaan \n",
            " Acadamy\n",
            "Subhaan \" Acadamy\n",
            "Subhaan Acadamy is cool\n",
            "subhaan acadamy\n",
            "SUBHAAN ACADAMY\n",
            "False\n",
            "True\n",
            "15\n",
            "h\n",
            "1\n",
            "2\n",
            "Subz Acadamy\n",
            "-----------------------\n",
            "2\n",
            "7\n",
            "11\n",
            "21\n",
            "1\n",
            "5\n",
            "5 is my favourite number\n"
          ]
        }
      ]
    }
  ]
}