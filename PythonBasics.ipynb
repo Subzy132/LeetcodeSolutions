{
  "nbformat": 4,
  "nbformat_minor": 0,
  "metadata": {
    "colab": {
      "provenance": [],
      "authorship_tag": "ABX9TyO6ywBluk60VqngBnhlkkzM"
    },
    "kernelspec": {
      "name": "python3",
      "display_name": "Python 3"
    },
    "language_info": {
      "name": "python"
    }
  },
  "cells": [
    {
      "cell_type": "code",
      "execution_count": 4,
      "metadata": {
        "colab": {
          "base_uri": "https://localhost:8080/",
          "height": 107
        },
        "id": "KEBTzRrf5TfM",
        "outputId": "c4bcd473-3871-4a3a-a018-3d533d501716"
      },
      "outputs": [
        {
          "output_type": "stream",
          "name": "stdout",
          "text": [
            "Hello world!\n",
            "Five is greater than two!\n",
            "5Hello World!\n",
            "Thank you!\n"
          ]
        },
        {
          "output_type": "execute_result",
          "data": {
            "text/plain": [
              "'\\nThis is a comment\\nwritten in\\nmore than just one line\\n\\n'"
            ],
            "application/vnd.google.colaboratory.intrinsic+json": {
              "type": "string"
            }
          },
          "metadata": {},
          "execution_count": 4
        }
      ],
      "source": [
        "print('Hello world!')\n",
        "\n",
        "# in Python Indentation is VERY important!\n",
        "\n",
        "if 5 > 2:\n",
        "  print('Five is greater than two!')\n",
        "\n",
        "# Python will give you an error if you don't add the indentation\n",
        "\n",
        "# e.g\n",
        "# if 5 > 2:\n",
        "# print('Five is greater than two!')\n",
        "\n",
        "# You have to use the same number of spaces in the same block of code, otherwise\n",
        "# Python will give you an error\n",
        "\n",
        "# e.g\n",
        "# if 5 > 2:\n",
        "#  print(\"Five is greater than two!\")\n",
        "#      print(\"Five is greater than two!\")\n",
        "\n",
        "\n",
        "x = 5\n",
        "y = \"Hello World!\"\n",
        "\n",
        "print(str(x) + y)\n",
        "\n",
        "# print(\"Hello, world!\") Comments can also be used to cancel out code to see how it will run\n",
        "print('Thank you!')\n",
        "\n",
        "\"\"\"\n",
        "This is a comment\n",
        "written in\n",
        "more than just one line\n",
        "\n",
        "\"\"\"\n",
        "\n",
        "\n",
        "\n"
      ]
    },
    {
      "cell_type": "code",
      "source": [
        "# Variables\n",
        "\n",
        "X = 23\n",
        "Y = \"Subhaan\"\n",
        "\n",
        "print(X)\n",
        "print(Y)\n",
        "\n",
        "# Variables do not need to be declared with any particular type\n",
        "# You can even change the type after they have been set\n",
        "# e.g.\n",
        "\n",
        "S = 24\n",
        "S = \"Subhaan 2\"\n",
        "print(S)\n",
        "\n",
        "# Casting\n",
        "# You can specify a data type of a variable by casting\n",
        "\n",
        "x = str(3)\n",
        "y = int(3)\n",
        "z = float(3)\n",
        "\n",
        "print(x)\n",
        "print(y)\n",
        "print(z)\n",
        "\n",
        "# You can get the data type of a variable by using the type() function\n",
        "\n",
        "x = 20\n",
        "y = \"Subhaan\"\n",
        "\n",
        "print(type(x))\n",
        "print(type(y))"
      ],
      "metadata": {
        "colab": {
          "base_uri": "https://localhost:8080/"
        },
        "id": "l9nH2C5GPT3h",
        "outputId": "9e6ae89b-aed9-4943-e2b7-9e5e42eea346"
      },
      "execution_count": 9,
      "outputs": [
        {
          "output_type": "stream",
          "name": "stdout",
          "text": [
            "23\n",
            "Subhaan\n",
            "Subhaan 2\n",
            "3\n",
            "3\n",
            "3.0\n",
            "<class 'int'>\n",
            "<class 'str'>\n"
          ]
        }
      ]
    }
  ]
}